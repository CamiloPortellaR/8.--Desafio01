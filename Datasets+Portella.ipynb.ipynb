{
 "cells": [
  {
   "cell_type": "markdown",
   "metadata": {},
   "source": [
    "El DataSet que se muestra a continuacion se llama \"Oil and Gas 1932-2014\"\n",
    "Las columnas potencialmente interesantes serian las siguientes:\n",
    "1.- oil_prod32_14 = Representa la cantidad de petroleo producido por un pais determinado en un año especifico\n",
    "2.- gas_prod55_14 = Representa la cantidad de gas producido por un pais determinado en un año especifico\n",
    "3.- oil_price_2000 = Representa el precio del petroleo de un pais especifico en un año especifico\n",
    "4.- gas_price_2000 = Representa el precio del gas de un pais especifico en un año especifico\n",
    "5.- oil_exports = Representa la cantidad de crudo exportado de un pais especifico en un año especifico\n",
    "6.- gas_exports = Representa la cantidad de gas exportado de un pais especifico en un año especifico\n",
    "7.- population = Poblacion de un pais especifico en un año especifico"
   ]
  },
  {
   "cell_type": "code",
   "execution_count": null,
   "metadata": {},
   "outputs": [],
   "source": [
    "import pandas as pd\n",
    "import numpy as np\n",
    "\n",
    "#     Este data set fue extraido desde GitHub y el link es el sgt : \n",
    "#     https://github.com/CamiloPortellaR/8.--Desafio01/blob/master/Oil%20and%20Gas%201932-2014.csv\n",
    "\n",
    "url='https://raw.githubusercontent.com/CamiloPortellaR/8.--Desafio01/master/Oil%20and%20Gas%201932-2014.csv'\n",
    "df= pd.read_csv(url)\n",
    "print(df.to_string()) \n"
   ]
  },
  {
   "attachments": {},
   "cell_type": "markdown",
   "metadata": {},
   "source": [
    "El DataSet que se muestra a continuacion se llama \"World Energy Consumption\"\n",
    "Las columnas potencialmente interesantes serian las siguientes:\n",
    "1.- coal_consumption\tAnnual change in coal consumption, measured in terawatt-hours\n",
    "2.- coal_production\t    Coal production, measured in terawatt-hours\n",
    "3.- gas_consumption\t    Primary energy consumption from gas, measured in terawatt-hours\n",
    "4.- gas_production\t    Gas production, measured in terawatt-hours\n",
    "5.- oil_consumption\t    Primary energy consumption from oil, measured in terawatt-hours\n",
    "6.- oil_production\t    Oil production, measured in terawatt-hours\n",
    "7.- wind_electricity\tElectricity generation from wind, measured in terawatt-hours\n",
    "8.- wind_consumption\tPrimary energy consumption from wind, measured in terawatt-hours\n",
    "9.- nuclear_electricity\tElectricity generation from nuclear power, measured in terawatt-hours\n",
    "10.-nuclear_consumption\tPrimary energy consumption from nuclear power, measured in terawatt-hours\n",
    "11.-population\t        Total population"
   ]
  },
  {
   "cell_type": "code",
   "execution_count": null,
   "metadata": {},
   "outputs": [],
   "source": [
    "import pandas as pd\n",
    "import numpy as np\n",
    "\n",
    "#     Este data set fue extraido desde GitHub y el link es el sgt : \n",
    "#     https://github.com/CamiloPortellaR/8.--Desafio01/blob/master/World%20Energy%20Consumption.csv\n",
    "\n",
    "url='https://raw.githubusercontent.com/CamiloPortellaR/8.--Desafio01/master/World%20Energy%20Consumption.csv'\n",
    "df= pd.read_csv(url)\n",
    "print(df.to_string()) "
   ]
  },
  {
   "attachments": {},
   "cell_type": "markdown",
   "metadata": {},
   "source": [
    "El DataSet que se muestra a continuacion se llama \"Life Expectancy (WHO)\"\n",
    "Las columnas potencialmente interesantes serian las siguientes:\n",
    "1.- Life expectancy     Esperanza de vida de un pais determinado en un año determinado\n",
    "2.- Adult Mortality     Probabilidad de morir entre los 15 años y los 60 años de una muestra de 1000 personas\n",
    "3.- Under-five deaths   Numero de muertes en personas menores de 5 años en una muestra de 1000 personas\n",
    "4.- Total expenditure   Lo que el Gasto en salud representa del total del presupuesto del gobierno\n",
    "5.- Population          Poblacion de un pais en un año determinado\n",
    "6.- Schooling           Numero de años de escolaridad\n",
    "7.- Polio               Porcentaje de niños menores de 1 año que han sido vacunados contra la Polio\n",
    "8.- Diphtheria          Porcentaje de niños menores de 1 año que han sido vacunados contra la Difteria\n",
    "9.- Hepatitis B         Porcentaje de niños menores de 1 año que han sido vacunados contra la Hepatitis B"
   ]
  },
  {
   "cell_type": "code",
   "execution_count": null,
   "metadata": {},
   "outputs": [],
   "source": [
    "import pandas as pd\n",
    "import numpy as np\n",
    "\n",
    "#     Este data set fue extraido desde GitHub y el link es el sgt : \n",
    "#     https://github.com/CamiloPortellaR/8.--Desafio01/blob/master/Life%20Expectancy%20Data.csv\n",
    "\n",
    "url='https://raw.githubusercontent.com/CamiloPortellaR/8.--Desafio01/master/Life%20Expectancy%20Data.csv'\n",
    "df= pd.read_csv(url)\n",
    "print(df.to_string()) "
   ]
  }
 ],
 "metadata": {
  "kernelspec": {
   "display_name": "Python 3",
   "language": "python",
   "name": "python3"
  },
  "language_info": {
   "codemirror_mode": {
    "name": "ipython",
    "version": 3
   },
   "file_extension": ".py",
   "mimetype": "text/x-python",
   "name": "python",
   "nbconvert_exporter": "python",
   "pygments_lexer": "ipython3",
   "version": "3.10.10"
  },
  "orig_nbformat": 4,
  "vscode": {
   "interpreter": {
    "hash": "571d7ae36eb20328cd58d914a0d4310eabae29b8334451bcda506157e5a7a1a2"
   }
  }
 },
 "nbformat": 4,
 "nbformat_minor": 2
}
